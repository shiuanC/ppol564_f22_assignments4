{
 "cells": [
  {
   "cell_type": "markdown",
   "metadata": {
    "id": "ov6dHroXZ_tG"
   },
   "source": [
    "## Problem Set 4\n",
    "\n",
    "**Total points (without extra credit)**: 30 \n",
    "\n",
    "**Background on the policy context**: here, we're going to use two datasets to practice reshaping, merging, and regular expression patterns. Both datasets relate to the broader issue of which employers might be violating the rights of temporary guestworkers granted visas under the H-2A program. Here are some articles about potential exploitation of guestworkers by firms and inequality caused by minimal oversight:\n",
    "\n",
    "- News media coverage of labor abuses of temporary guestworkers: https://www.buzzfeednews.com/article/kenbensinger/the-pushovers \n",
    "- GAO report on labor abuses of temporary guestworkers: https://www.gao.gov/products/gao-15-154\n",
    "\n",
    "The following datasets are located in `pset4_inputdata` (need to unzip): \n",
    "\n",
    "- `jobs_clean`: a dataset of guestworker jobs posted by many employers, some of whom have been debarred (banned) from the program for labor abuses; others not debarred\n",
    "- `debar`: a dataset of employers who committed violations of labor regulations meant to protect temporary guestworkers \n",
    "\n",
    "\n",
    "You can view a codebook here: https://docs.google.com/spreadsheets/d/1rF9GJEC8pPKxipD0TsoG9DVdqz3EJ-b-BHEtyioAX7I/edit?usp=sharing"
   ]
  },
  {
   "cell_type": "code",
   "execution_count": 1,
   "metadata": {
    "colab": {
     "base_uri": "https://localhost:8080/"
    },
    "id": "CKgPweH6aD9M",
    "outputId": "61ed40a3-1a39-4dd0-ef6f-cf9da3bafad3"
   },
   "outputs": [],
   "source": [
    "# from google.colab import drive\n",
    "# drive.mount('/content/drive')\n",
    "# %cd \"drive/MyDrive/DS_I/ppol564_f22_assignments4\""
   ]
  },
  {
   "cell_type": "code",
   "execution_count": 2,
   "metadata": {
    "id": "PrOFXVmJZ_tM"
   },
   "outputs": [],
   "source": [
    "## helpful packages\n",
    "import pandas as pd\n",
    "import numpy as np\n",
    "import random\n",
    "import re\n",
    "import os\n",
    "\n",
    "## repeated printouts\n",
    "from IPython.core.interactiveshell import InteractiveShell\n",
    "InteractiveShell.ast_node_interactivity = \"all\"\n"
   ]
  },
  {
   "cell_type": "markdown",
   "metadata": {
    "id": "jdvgzM9RZ_tO"
   },
   "source": [
    "# 1. Reshaping data (13 points total)"
   ]
  },
  {
   "cell_type": "markdown",
   "metadata": {
    "id": "O0Ci-4S6Z_tP"
   },
   "source": [
    "Load the following dataset stored in `pset4_inputdata`: `debar.csv`\n",
    "\n",
    "This represents employers temporarily banned from hiring workers (debar.csv); call this `debar`\n",
    "\n",
    "\n",
    "View the head()\n"
   ]
  },
  {
   "cell_type": "code",
   "execution_count": 3,
   "metadata": {
    "colab": {
     "base_uri": "https://localhost:8080/",
     "height": 206
    },
    "id": "OiJVziagZ_tR",
    "outputId": "d16d642d-fd2d-44a2-b3f2-22babba2b15e"
   },
   "outputs": [
    {
     "data": {
      "text/html": [
       "<div>\n",
       "<style scoped>\n",
       "    .dataframe tbody tr th:only-of-type {\n",
       "        vertical-align: middle;\n",
       "    }\n",
       "\n",
       "    .dataframe tbody tr th {\n",
       "        vertical-align: top;\n",
       "    }\n",
       "\n",
       "    .dataframe thead th {\n",
       "        text-align: right;\n",
       "    }\n",
       "</style>\n",
       "<table border=\"1\" class=\"dataframe\">\n",
       "  <thead>\n",
       "    <tr style=\"text-align: right;\">\n",
       "      <th></th>\n",
       "      <th>Name</th>\n",
       "      <th>City, State</th>\n",
       "      <th>Violation</th>\n",
       "      <th>Start date</th>\n",
       "      <th>viol_num</th>\n",
       "    </tr>\n",
       "  </thead>\n",
       "  <tbody>\n",
       "    <tr>\n",
       "      <th>0</th>\n",
       "      <td>Macky and Brad Farms</td>\n",
       "      <td>Plains, TX</td>\n",
       "      <td>Impeding the Audit Process – Partial- Response</td>\n",
       "      <td>2/13/2015</td>\n",
       "      <td>viol1</td>\n",
       "    </tr>\n",
       "    <tr>\n",
       "      <th>1</th>\n",
       "      <td>Labatte Farms</td>\n",
       "      <td>Froid, MT</td>\n",
       "      <td>Impeding the Audit Process – Non- Response</td>\n",
       "      <td>1/17/2016</td>\n",
       "      <td>viol1</td>\n",
       "    </tr>\n",
       "    <tr>\n",
       "      <th>2</th>\n",
       "      <td>RB Farm Picking, Inc</td>\n",
       "      <td>Miami, FL</td>\n",
       "      <td>Failure to respond to audit (no response)</td>\n",
       "      <td>10/26/2013</td>\n",
       "      <td>viol1</td>\n",
       "    </tr>\n",
       "    <tr>\n",
       "      <th>3</th>\n",
       "      <td>Abe- Nancy Froese</td>\n",
       "      <td>Seminole, TX</td>\n",
       "      <td>Failure to respond to audit request</td>\n",
       "      <td>11/23/2017</td>\n",
       "      <td>viol1</td>\n",
       "    </tr>\n",
       "    <tr>\n",
       "      <th>4</th>\n",
       "      <td>Quentin Schell</td>\n",
       "      <td>Towner, North Dakota</td>\n",
       "      <td>Non-payment of certification fee</td>\n",
       "      <td>7/22/2016</td>\n",
       "      <td>viol1</td>\n",
       "    </tr>\n",
       "  </tbody>\n",
       "</table>\n",
       "</div>"
      ],
      "text/plain": [
       "                   Name           City, State  \\\n",
       "0  Macky and Brad Farms            Plains, TX   \n",
       "1         Labatte Farms             Froid, MT   \n",
       "2  RB Farm Picking, Inc             Miami, FL   \n",
       "3     Abe- Nancy Froese          Seminole, TX   \n",
       "4        Quentin Schell  Towner, North Dakota   \n",
       "\n",
       "                                        Violation  Start date viol_num  \n",
       "0  Impeding the Audit Process – Partial- Response   2/13/2015    viol1  \n",
       "1      Impeding the Audit Process – Non- Response   1/17/2016    viol1  \n",
       "2       Failure to respond to audit (no response)  10/26/2013    viol1  \n",
       "3             Failure to respond to audit request  11/23/2017    viol1  \n",
       "4                Non-payment of certification fee   7/22/2016    viol1  "
      ]
     },
     "execution_count": 3,
     "metadata": {},
     "output_type": "execute_result"
    }
   ],
   "source": [
    "## your code here\n",
    "debar = pd.read_csv('pset4_inputdata/debar.csv')\n",
    "debar.head()"
   ]
  },
  {
   "cell_type": "markdown",
   "metadata": {
    "id": "6w4HOpE9Z_tR"
   },
   "source": [
    "## 1.1 (1 point)\n",
    "\n",
    "Print the number of rows in `debar` versus the number of unique employer names (`Name`). Is there one row per employer or multiple rows for some employers?"
   ]
  },
  {
   "cell_type": "code",
   "execution_count": 4,
   "metadata": {
    "colab": {
     "base_uri": "https://localhost:8080/"
    },
    "id": "N_bSozUPZ_tS",
    "outputId": "b94cc12b-eb21-4325-e4e1-654d2be41eb4"
   },
   "outputs": [
    {
     "name": "stdout",
     "output_type": "stream",
     "text": [
      "There are 105 rows and 94 unique employer names.\n",
      "Some employers have multiple rows.\n"
     ]
    }
   ],
   "source": [
    "## your code here\n",
    "print(\"There are \" + str(len(debar)) + \" rows and \" + str(debar.Name.nunique())  + \n",
    "      \" unique employer names.\\n\" + \"Some employers have multiple rows.\")"
   ]
  },
  {
   "cell_type": "markdown",
   "metadata": {
    "id": "Qek28gMMZ_tT"
   },
   "source": [
    "## 1.2 Investigating duplicated rows (2 points)\n",
    "\n",
    "A. Create a new column in `debar`--`is_repeated`-- that tells us whether an employer (`Name`) is repeated > 1 times\n",
    "\n",
    "*Hint*: there are multiple ways to solve this but some possibilities to get the list of names that are repeated are:\n",
    "- Using value_counts() on the `Name` variable and extracting the index from that value counts \n",
    "- Using groupby to count the rows attached to one name\n",
    "\n",
    "B. Print the rows where `is_repeated == True` and interpret\n",
    "\n",
    "C. Subset to the rows where `is_repeated == True` and save that data as `mult_debar`. Print the head() and shape"
   ]
  },
  {
   "cell_type": "code",
   "execution_count": 5,
   "metadata": {
    "colab": {
     "base_uri": "https://localhost:8080/",
     "height": 224
    },
    "id": "-dW5bhXTZ_tU",
    "outputId": "61d3cbe8-5132-4022-f1d1-b1e7bbb23087"
   },
   "outputs": [
    {
     "name": "stdout",
     "output_type": "stream",
     "text": [
      "(22, 6)\n"
     ]
    },
    {
     "data": {
      "text/html": [
       "<div>\n",
       "<style scoped>\n",
       "    .dataframe tbody tr th:only-of-type {\n",
       "        vertical-align: middle;\n",
       "    }\n",
       "\n",
       "    .dataframe tbody tr th {\n",
       "        vertical-align: top;\n",
       "    }\n",
       "\n",
       "    .dataframe thead th {\n",
       "        text-align: right;\n",
       "    }\n",
       "</style>\n",
       "<table border=\"1\" class=\"dataframe\">\n",
       "  <thead>\n",
       "    <tr style=\"text-align: right;\">\n",
       "      <th></th>\n",
       "      <th>Name</th>\n",
       "      <th>City, State</th>\n",
       "      <th>Violation</th>\n",
       "      <th>Start date</th>\n",
       "      <th>viol_num</th>\n",
       "      <th>is_repeated</th>\n",
       "    </tr>\n",
       "  </thead>\n",
       "  <tbody>\n",
       "    <tr>\n",
       "      <th>0</th>\n",
       "      <td>Macky and Brad Farms</td>\n",
       "      <td>Plains, TX</td>\n",
       "      <td>Impeding the Audit Process – Partial- Response</td>\n",
       "      <td>2/13/2015</td>\n",
       "      <td>viol1</td>\n",
       "      <td>True</td>\n",
       "    </tr>\n",
       "    <tr>\n",
       "      <th>9</th>\n",
       "      <td>Autumn Hill Orchard</td>\n",
       "      <td>Groton, MA</td>\n",
       "      <td>Impeding the Audit Process – Non- Response</td>\n",
       "      <td>7/6/2014</td>\n",
       "      <td>viol2</td>\n",
       "      <td>True</td>\n",
       "    </tr>\n",
       "    <tr>\n",
       "      <th>14</th>\n",
       "      <td>Macky and Brad Farms</td>\n",
       "      <td>Plains, TX</td>\n",
       "      <td>Failure to respond to audit (no response)</td>\n",
       "      <td>2/13/2015</td>\n",
       "      <td>viol2</td>\n",
       "      <td>True</td>\n",
       "    </tr>\n",
       "    <tr>\n",
       "      <th>23</th>\n",
       "      <td>SRT Farms</td>\n",
       "      <td>Morton, TX</td>\n",
       "      <td>Failure to respond to audit (no response)</td>\n",
       "      <td>11/16/2014</td>\n",
       "      <td>viol1</td>\n",
       "      <td>True</td>\n",
       "    </tr>\n",
       "    <tr>\n",
       "      <th>24</th>\n",
       "      <td>Dove Creek Farms</td>\n",
       "      <td>Mount Vernon, TX</td>\n",
       "      <td>Failure to Respond to Audit Request</td>\n",
       "      <td>2/9/2018</td>\n",
       "      <td>viol1</td>\n",
       "      <td>True</td>\n",
       "    </tr>\n",
       "  </tbody>\n",
       "</table>\n",
       "</div>"
      ],
      "text/plain": [
       "                    Name       City, State  \\\n",
       "0   Macky and Brad Farms        Plains, TX   \n",
       "9    Autumn Hill Orchard        Groton, MA   \n",
       "14  Macky and Brad Farms        Plains, TX   \n",
       "23             SRT Farms        Morton, TX   \n",
       "24      Dove Creek Farms  Mount Vernon, TX   \n",
       "\n",
       "                                         Violation  Start date viol_num  \\\n",
       "0   Impeding the Audit Process – Partial- Response   2/13/2015    viol1   \n",
       "9       Impeding the Audit Process – Non- Response    7/6/2014    viol2   \n",
       "14       Failure to respond to audit (no response)   2/13/2015    viol2   \n",
       "23       Failure to respond to audit (no response)  11/16/2014    viol1   \n",
       "24             Failure to Respond to Audit Request    2/9/2018    viol1   \n",
       "\n",
       "    is_repeated  \n",
       "0          True  \n",
       "9          True  \n",
       "14         True  \n",
       "23         True  \n",
       "24         True  "
      ]
     },
     "execution_count": 5,
     "metadata": {},
     "output_type": "execute_result"
    }
   ],
   "source": [
    "## your code here\n",
    "# debar.Name.value_counts()\n",
    "debar['is_repeated'] = debar.Name.apply(lambda x: debar.Name.value_counts()[x] > 1)\n",
    "mult_debar = debar[debar.is_repeated == True]\n",
    "print(mult_debar.shape)\n",
    "mult_debar.head()"
   ]
  },
  {
   "cell_type": "markdown",
   "metadata": {
    "id": "S1l3QcK-Z_tV"
   },
   "source": [
    "## 1.3 Reshape mult_debar to wide to begin filtering out duplicates (4 points)\n",
    "\n",
    "You want to separate out two cases:\n",
    "\n",
    "- Cases where the repeat rows for one employer are due to duplicated data \n",
    "- Cases where the repeat rows for one employer represent repeated violations for different issues\n",
    "\n",
    "There are various ways to check duplicates in this data (eg converting `Violation` to lowercase; replacing spelled-out states with two-dig state codes)\n",
    "\n",
    "We're going to use the simple rule of:\n",
    "\n",
    "- A row is a duplicate if, within an employer (defined by Name + City, State), the Start date for each row's violation is the same \n",
    "\n",
    "To begin to check this, reshape `mult_debar` to a wide dataframe (`mult_debar_wide`) with the following columns, treating the `Name` and `City, State` as the index for the pivot:\n",
    "\n",
    "- Name\n",
    "- City, State\n",
    "- start_date_viol1\n",
    "- start_date_viol2\n",
    "\n",
    "Print the head and shape"
   ]
  },
  {
   "cell_type": "code",
   "execution_count": 6,
   "metadata": {
    "colab": {
     "base_uri": "https://localhost:8080/"
    },
    "id": "2c1RqiU9OrTt",
    "outputId": "06fbe321-f023-463a-9c99-4473b39f766e"
   },
   "outputs": [
    {
     "data": {
      "text/plain": [
       "Index(['Name', 'City, State', 'Violation', 'Start date', 'viol_num',\n",
       "       'is_repeated'],\n",
       "      dtype='object')"
      ]
     },
     "execution_count": 6,
     "metadata": {},
     "output_type": "execute_result"
    }
   ],
   "source": [
    "mult_debar.columns"
   ]
  },
  {
   "cell_type": "code",
   "execution_count": 7,
   "metadata": {
    "colab": {
     "base_uri": "https://localhost:8080/",
     "height": 224
    },
    "id": "m5qOCXIpZ_tW",
    "outputId": "7e48a31e-216d-40a3-bff7-f0fd6e05d8d5"
   },
   "outputs": [
    {
     "name": "stdout",
     "output_type": "stream",
     "text": [
      "(11, 4)\n"
     ]
    },
    {
     "data": {
      "text/html": [
       "<div>\n",
       "<style scoped>\n",
       "    .dataframe tbody tr th:only-of-type {\n",
       "        vertical-align: middle;\n",
       "    }\n",
       "\n",
       "    .dataframe tbody tr th {\n",
       "        vertical-align: top;\n",
       "    }\n",
       "\n",
       "    .dataframe thead th {\n",
       "        text-align: right;\n",
       "    }\n",
       "</style>\n",
       "<table border=\"1\" class=\"dataframe\">\n",
       "  <thead>\n",
       "    <tr style=\"text-align: right;\">\n",
       "      <th>viol_num</th>\n",
       "      <th>Name</th>\n",
       "      <th>City, State</th>\n",
       "      <th>start_date_viol1</th>\n",
       "      <th>start_date_viol2</th>\n",
       "    </tr>\n",
       "  </thead>\n",
       "  <tbody>\n",
       "    <tr>\n",
       "      <th>0</th>\n",
       "      <td>Autumn Hill Orchard</td>\n",
       "      <td>Groton, MA</td>\n",
       "      <td>7/6/2014</td>\n",
       "      <td>7/6/2014</td>\n",
       "    </tr>\n",
       "    <tr>\n",
       "      <th>1</th>\n",
       "      <td>Cisco Produce Inc.</td>\n",
       "      <td>Cairo, GA</td>\n",
       "      <td>12/10/2015</td>\n",
       "      <td>12/10/2014</td>\n",
       "    </tr>\n",
       "    <tr>\n",
       "      <th>2</th>\n",
       "      <td>Dove Creek Farms</td>\n",
       "      <td>Mount Vernon, TX</td>\n",
       "      <td>2/9/2018</td>\n",
       "      <td>2/9/2018</td>\n",
       "    </tr>\n",
       "    <tr>\n",
       "      <th>3</th>\n",
       "      <td>F&amp;W Farms</td>\n",
       "      <td>Ingalls, KS</td>\n",
       "      <td>12/10/2014</td>\n",
       "      <td>12/10/2014</td>\n",
       "    </tr>\n",
       "    <tr>\n",
       "      <th>4</th>\n",
       "      <td>Macky and Brad Farms</td>\n",
       "      <td>Plains, TX</td>\n",
       "      <td>2/13/2015</td>\n",
       "      <td>2/13/2015</td>\n",
       "    </tr>\n",
       "  </tbody>\n",
       "</table>\n",
       "</div>"
      ],
      "text/plain": [
       "viol_num                  Name       City, State start_date_viol1  \\\n",
       "0          Autumn Hill Orchard        Groton, MA         7/6/2014   \n",
       "1           Cisco Produce Inc.         Cairo, GA       12/10/2015   \n",
       "2             Dove Creek Farms  Mount Vernon, TX         2/9/2018   \n",
       "3                    F&W Farms       Ingalls, KS       12/10/2014   \n",
       "4         Macky and Brad Farms        Plains, TX        2/13/2015   \n",
       "\n",
       "viol_num start_date_viol2  \n",
       "0                7/6/2014  \n",
       "1              12/10/2014  \n",
       "2                2/9/2018  \n",
       "3              12/10/2014  \n",
       "4               2/13/2015  "
      ]
     },
     "execution_count": 7,
     "metadata": {},
     "output_type": "execute_result"
    }
   ],
   "source": [
    "## your code here\n",
    "\n",
    "mult_debar_wide = pd.pivot(mult_debar, index=['Name', 'City, State'], columns='viol_num',\n",
    "                    values='Start date').reset_index().rename(columns={\"viol1\": \"start_date_viol1\", \"viol2\": \"start_date_viol2\"})\n",
    "print(mult_debar_wide.shape)\n",
    "mult_debar_wide.head()"
   ]
  },
  {
   "cell_type": "markdown",
   "metadata": {
    "id": "5R1255KrZ_tW"
   },
   "source": [
    "## 1.4 Filter out duplicates from original debar data (6 points)\n",
    "\n",
    "A. Using `mult_debar_wide`, add a column `is_dup` that takes value of True for cases where start_date_viol1 == start_date_viol2 marking the row as a duplicate\n",
    "\n",
    "B. Going back to the original long-format data you loaded at the beginning- `debar`\n",
    "    - For employers where `is_dup == True` as indicated by your wide-format dataframe, only keep `violnum == viol1`\n",
    "    - For all other employers (so is_dup == False and ones we didnt need to check duplicates for), keep all violnum\n",
    "    - Remove the `is_repeated` column from the `debar` data\n",
    "\n",
    "**Hint**: you can complete part B without a for loop; `pd.concat` with axis = 0 (row binding) is one way\n",
    "\n",
    "Call the resulting dataframe `debar_clean` and print the shape and # of unique employer names"
   ]
  },
  {
   "cell_type": "code",
   "execution_count": 8,
   "metadata": {
    "id": "eOuZX3yEZ_tX"
   },
   "outputs": [],
   "source": [
    "## your code here\n",
    "# Using mult_debar_wide, add a column is_dup that takes value of True for cases where start_date_viol1 == start_date_viol2 marking the row as a duplicate\n",
    "mult_debar_wide['is_dup'] = mult_debar_wide.start_date_viol1 == mult_debar_wide.start_date_viol2"
   ]
  },
  {
   "cell_type": "code",
   "execution_count": 9,
   "metadata": {
    "colab": {
     "base_uri": "https://localhost:8080/",
     "height": 206
    },
    "id": "yI18eyYonvu_",
    "outputId": "5a0333bc-9c49-4776-a77a-1f6759b54afc"
   },
   "outputs": [
    {
     "data": {
      "text/html": [
       "<div>\n",
       "<style scoped>\n",
       "    .dataframe tbody tr th:only-of-type {\n",
       "        vertical-align: middle;\n",
       "    }\n",
       "\n",
       "    .dataframe tbody tr th {\n",
       "        vertical-align: top;\n",
       "    }\n",
       "\n",
       "    .dataframe thead th {\n",
       "        text-align: right;\n",
       "    }\n",
       "</style>\n",
       "<table border=\"1\" class=\"dataframe\">\n",
       "  <thead>\n",
       "    <tr style=\"text-align: right;\">\n",
       "      <th></th>\n",
       "      <th>Name</th>\n",
       "      <th>City, State</th>\n",
       "      <th>Violation</th>\n",
       "      <th>Start date</th>\n",
       "      <th>viol_num</th>\n",
       "      <th>is_repeated</th>\n",
       "    </tr>\n",
       "  </thead>\n",
       "  <tbody>\n",
       "    <tr>\n",
       "      <th>0</th>\n",
       "      <td>Macky and Brad Farms</td>\n",
       "      <td>Plains, TX</td>\n",
       "      <td>Impeding the Audit Process – Partial- Response</td>\n",
       "      <td>2/13/2015</td>\n",
       "      <td>viol1</td>\n",
       "      <td>True</td>\n",
       "    </tr>\n",
       "    <tr>\n",
       "      <th>1</th>\n",
       "      <td>Labatte Farms</td>\n",
       "      <td>Froid, MT</td>\n",
       "      <td>Impeding the Audit Process – Non- Response</td>\n",
       "      <td>1/17/2016</td>\n",
       "      <td>viol1</td>\n",
       "      <td>False</td>\n",
       "    </tr>\n",
       "    <tr>\n",
       "      <th>2</th>\n",
       "      <td>RB Farm Picking, Inc</td>\n",
       "      <td>Miami, FL</td>\n",
       "      <td>Failure to respond to audit (no response)</td>\n",
       "      <td>10/26/2013</td>\n",
       "      <td>viol1</td>\n",
       "      <td>False</td>\n",
       "    </tr>\n",
       "    <tr>\n",
       "      <th>3</th>\n",
       "      <td>Abe- Nancy Froese</td>\n",
       "      <td>Seminole, TX</td>\n",
       "      <td>Failure to respond to audit request</td>\n",
       "      <td>11/23/2017</td>\n",
       "      <td>viol1</td>\n",
       "      <td>False</td>\n",
       "    </tr>\n",
       "    <tr>\n",
       "      <th>4</th>\n",
       "      <td>Quentin Schell</td>\n",
       "      <td>Towner, North Dakota</td>\n",
       "      <td>Non-payment of certification fee</td>\n",
       "      <td>7/22/2016</td>\n",
       "      <td>viol1</td>\n",
       "      <td>False</td>\n",
       "    </tr>\n",
       "  </tbody>\n",
       "</table>\n",
       "</div>"
      ],
      "text/plain": [
       "                   Name           City, State  \\\n",
       "0  Macky and Brad Farms            Plains, TX   \n",
       "1         Labatte Farms             Froid, MT   \n",
       "2  RB Farm Picking, Inc             Miami, FL   \n",
       "3     Abe- Nancy Froese          Seminole, TX   \n",
       "4        Quentin Schell  Towner, North Dakota   \n",
       "\n",
       "                                        Violation  Start date viol_num  \\\n",
       "0  Impeding the Audit Process – Partial- Response   2/13/2015    viol1   \n",
       "1      Impeding the Audit Process – Non- Response   1/17/2016    viol1   \n",
       "2       Failure to respond to audit (no response)  10/26/2013    viol1   \n",
       "3             Failure to respond to audit request  11/23/2017    viol1   \n",
       "4                Non-payment of certification fee   7/22/2016    viol1   \n",
       "\n",
       "   is_repeated  \n",
       "0         True  \n",
       "1        False  \n",
       "2        False  \n",
       "3        False  \n",
       "4        False  "
      ]
     },
     "execution_count": 9,
     "metadata": {},
     "output_type": "execute_result"
    }
   ],
   "source": [
    "debar.head()"
   ]
  },
  {
   "cell_type": "code",
   "execution_count": 10,
   "metadata": {
    "colab": {
     "base_uri": "https://localhost:8080/",
     "height": 442
    },
    "id": "EBJXxjP0jHmg",
    "outputId": "5423cdf4-b0ce-497d-9fef-422516acdef6"
   },
   "outputs": [
    {
     "name": "stdout",
     "output_type": "stream",
     "text": [
      "The shape of cleaned Data is  (97, 5)  and there are 94 unique employers\n"
     ]
    },
    {
     "data": {
      "text/html": [
       "<div>\n",
       "<style scoped>\n",
       "    .dataframe tbody tr th:only-of-type {\n",
       "        vertical-align: middle;\n",
       "    }\n",
       "\n",
       "    .dataframe tbody tr th {\n",
       "        vertical-align: top;\n",
       "    }\n",
       "\n",
       "    .dataframe thead th {\n",
       "        text-align: right;\n",
       "    }\n",
       "</style>\n",
       "<table border=\"1\" class=\"dataframe\">\n",
       "  <thead>\n",
       "    <tr style=\"text-align: right;\">\n",
       "      <th></th>\n",
       "      <th>Name</th>\n",
       "      <th>City, State</th>\n",
       "      <th>Violation</th>\n",
       "      <th>Start date</th>\n",
       "      <th>viol_num</th>\n",
       "    </tr>\n",
       "  </thead>\n",
       "  <tbody>\n",
       "    <tr>\n",
       "      <th>0</th>\n",
       "      <td>Macky and Brad Farms</td>\n",
       "      <td>Plains, TX</td>\n",
       "      <td>Impeding the Audit Process – Partial- Response</td>\n",
       "      <td>2/13/2015</td>\n",
       "      <td>viol1</td>\n",
       "    </tr>\n",
       "    <tr>\n",
       "      <th>1</th>\n",
       "      <td>SRT Farms</td>\n",
       "      <td>Morton, TX</td>\n",
       "      <td>Failure to respond to audit (no response)</td>\n",
       "      <td>11/16/2014</td>\n",
       "      <td>viol1</td>\n",
       "    </tr>\n",
       "    <tr>\n",
       "      <th>2</th>\n",
       "      <td>Dove Creek Farms</td>\n",
       "      <td>Mount Vernon, TX</td>\n",
       "      <td>Failure to Respond to Audit Request</td>\n",
       "      <td>2/9/2018</td>\n",
       "      <td>viol1</td>\n",
       "    </tr>\n",
       "    <tr>\n",
       "      <th>3</th>\n",
       "      <td>Rollo Farm Labor Contractor</td>\n",
       "      <td>Miami, FL</td>\n",
       "      <td>Failure to respond to audit (no response)</td>\n",
       "      <td>8/23/2014</td>\n",
       "      <td>viol1</td>\n",
       "    </tr>\n",
       "    <tr>\n",
       "      <th>4</th>\n",
       "      <td>F&amp;W Farms</td>\n",
       "      <td>Ingalls, KS</td>\n",
       "      <td>Impeding the Audit Process – Partial- Response</td>\n",
       "      <td>12/10/2014</td>\n",
       "      <td>viol1</td>\n",
       "    </tr>\n",
       "    <tr>\n",
       "      <th>...</th>\n",
       "      <td>...</td>\n",
       "      <td>...</td>\n",
       "      <td>...</td>\n",
       "      <td>...</td>\n",
       "      <td>...</td>\n",
       "    </tr>\n",
       "    <tr>\n",
       "      <th>92</th>\n",
       "      <td>Ruben Ruiz (DeSoto Harvesting)</td>\n",
       "      <td>Arcadia, FL</td>\n",
       "      <td>WHD referral</td>\n",
       "      <td>10/8/2016</td>\n",
       "      <td>viol1</td>\n",
       "    </tr>\n",
       "    <tr>\n",
       "      <th>93</th>\n",
       "      <td>J &amp; L Farms</td>\n",
       "      <td>Claremont, SD</td>\n",
       "      <td>WHD referral</td>\n",
       "      <td>5/8/2018</td>\n",
       "      <td>viol1</td>\n",
       "    </tr>\n",
       "    <tr>\n",
       "      <th>94</th>\n",
       "      <td>Donna Lucio</td>\n",
       "      <td>Lyons, Georgia</td>\n",
       "      <td>Non-payment of certification fee</td>\n",
       "      <td>8/25/2016</td>\n",
       "      <td>viol1</td>\n",
       "    </tr>\n",
       "    <tr>\n",
       "      <th>95</th>\n",
       "      <td>Trinity Livestock Partnership</td>\n",
       "      <td>Earth, TX</td>\n",
       "      <td>Impeding the Audit Process – Non- Response</td>\n",
       "      <td>12/30/2015</td>\n",
       "      <td>viol1</td>\n",
       "    </tr>\n",
       "    <tr>\n",
       "      <th>96</th>\n",
       "      <td>Jim and Ann Shipley William Shipley*</td>\n",
       "      <td>Speedwell, Tennessee</td>\n",
       "      <td>WHD referral</td>\n",
       "      <td>5/6/2016</td>\n",
       "      <td>viol1</td>\n",
       "    </tr>\n",
       "  </tbody>\n",
       "</table>\n",
       "<p>97 rows × 5 columns</p>\n",
       "</div>"
      ],
      "text/plain": [
       "                                    Name           City, State  \\\n",
       "0                   Macky and Brad Farms            Plains, TX   \n",
       "1                              SRT Farms            Morton, TX   \n",
       "2                       Dove Creek Farms      Mount Vernon, TX   \n",
       "3            Rollo Farm Labor Contractor             Miami, FL   \n",
       "4                              F&W Farms           Ingalls, KS   \n",
       "..                                   ...                   ...   \n",
       "92        Ruben Ruiz (DeSoto Harvesting)           Arcadia, FL   \n",
       "93                           J & L Farms         Claremont, SD   \n",
       "94                           Donna Lucio        Lyons, Georgia   \n",
       "95         Trinity Livestock Partnership             Earth, TX   \n",
       "96  Jim and Ann Shipley William Shipley*  Speedwell, Tennessee   \n",
       "\n",
       "                                         Violation  Start date viol_num  \n",
       "0   Impeding the Audit Process – Partial- Response   2/13/2015    viol1  \n",
       "1        Failure to respond to audit (no response)  11/16/2014    viol1  \n",
       "2              Failure to Respond to Audit Request    2/9/2018    viol1  \n",
       "3        Failure to respond to audit (no response)   8/23/2014    viol1  \n",
       "4   Impeding the Audit Process – Partial- Response  12/10/2014    viol1  \n",
       "..                                             ...         ...      ...  \n",
       "92                                    WHD referral   10/8/2016    viol1  \n",
       "93                                    WHD referral    5/8/2018    viol1  \n",
       "94                Non-payment of certification fee   8/25/2016    viol1  \n",
       "95      Impeding the Audit Process – Non- Response  12/30/2015    viol1  \n",
       "96                                    WHD referral    5/6/2016    viol1  \n",
       "\n",
       "[97 rows x 5 columns]"
      ]
     },
     "execution_count": 10,
     "metadata": {},
     "output_type": "execute_result"
    }
   ],
   "source": [
    "# [mult_debar_wide['is_dup'] == True]\n",
    "dup_names = list(mult_debar_wide[mult_debar_wide['is_dup'] == True].Name)\n",
    "debar_keepviol1 = debar[(debar.Name.isin(dup_names)) & (debar.viol_num == \"viol1\")].copy()\n",
    "debar_keepallviols = debar[~debar.Name.isin(dup_names)].copy()\n",
    "debar_clean = pd.concat([debar_keepviol1, debar_keepallviols], ignore_index= True)\n",
    "debar_clean = debar_clean.drop(columns = \"is_repeated\")\n",
    "print('The shape of cleaned Data is ', debar_clean.shape,  \" and there are\", debar_clean.Name.nunique(), \"unique employers\")\n",
    "debar_clean"
   ]
  },
  {
   "cell_type": "markdown",
   "metadata": {
    "id": "h_b4MI0nZ_tX"
   },
   "source": [
    "# 2. Merging and regex (17 points total)\n",
    "\n"
   ]
  },
  {
   "cell_type": "markdown",
   "metadata": {
    "id": "v3_lU_xRZ_tX"
   },
   "source": [
    "## 2.1 Load data on job postings\n",
    "\n",
    "The previous dataset contains a small subset of employers who faced temporary bans due to violations of H-2A program regulations\n",
    "\n",
    "Since most of the bans have expired, we're going to see which of those employers posted new H-2A jobs in the first quarter of 2021 \n",
    "\n",
    "Loading the `jobs_clean.csv` data stored in `pset4_inputdata`"
   ]
  },
  {
   "cell_type": "code",
   "execution_count": 11,
   "metadata": {
    "colab": {
     "base_uri": "https://localhost:8080/",
     "height": 224
    },
    "id": "bsWaQnS7Z_tY",
    "outputId": "157a6920-0bbe-40da-eaf0-2b8c7f730963"
   },
   "outputs": [
    {
     "name": "stdout",
     "output_type": "stream",
     "text": [
      "(2720, 5)\n"
     ]
    },
    {
     "data": {
      "text/html": [
       "<div>\n",
       "<style scoped>\n",
       "    .dataframe tbody tr th:only-of-type {\n",
       "        vertical-align: middle;\n",
       "    }\n",
       "\n",
       "    .dataframe tbody tr th {\n",
       "        vertical-align: top;\n",
       "    }\n",
       "\n",
       "    .dataframe thead th {\n",
       "        text-align: right;\n",
       "    }\n",
       "</style>\n",
       "<table border=\"1\" class=\"dataframe\">\n",
       "  <thead>\n",
       "    <tr style=\"text-align: right;\">\n",
       "      <th></th>\n",
       "      <th>CASE_NUMBER</th>\n",
       "      <th>EMPLOYER_NAME</th>\n",
       "      <th>EMPLOYER_CITY</th>\n",
       "      <th>EMPLOYER_STATE</th>\n",
       "      <th>EMPLOYER_ADDRESS_1</th>\n",
       "    </tr>\n",
       "  </thead>\n",
       "  <tbody>\n",
       "    <tr>\n",
       "      <th>0</th>\n",
       "      <td>H-300-20199-721302</td>\n",
       "      <td>Fazio Farms Operating Company, LLC</td>\n",
       "      <td>Portland</td>\n",
       "      <td>OR</td>\n",
       "      <td>8433 NE 13th Ave</td>\n",
       "    </tr>\n",
       "    <tr>\n",
       "      <th>1</th>\n",
       "      <td>H-300-20231-773906</td>\n",
       "      <td>Charlie Sunderland</td>\n",
       "      <td>McMinnville</td>\n",
       "      <td>TN</td>\n",
       "      <td>982 Northcutts Cove Road</td>\n",
       "    </tr>\n",
       "    <tr>\n",
       "      <th>2</th>\n",
       "      <td>H-300-20231-774123</td>\n",
       "      <td>Michael Rudebusch</td>\n",
       "      <td>Livingston</td>\n",
       "      <td>TX</td>\n",
       "      <td>7366 State Hwy 146 S</td>\n",
       "    </tr>\n",
       "    <tr>\n",
       "      <th>3</th>\n",
       "      <td>H-300-20231-774151</td>\n",
       "      <td>Lodahl Farms</td>\n",
       "      <td>Brockton</td>\n",
       "      <td>MT</td>\n",
       "      <td>4198 Road 2049</td>\n",
       "    </tr>\n",
       "    <tr>\n",
       "      <th>4</th>\n",
       "      <td>H-300-20231-774508</td>\n",
       "      <td>Dunson Harvesting, Inc.</td>\n",
       "      <td>Winter Haven</td>\n",
       "      <td>FL</td>\n",
       "      <td>400 Eagle Lake Loop Rd.</td>\n",
       "    </tr>\n",
       "  </tbody>\n",
       "</table>\n",
       "</div>"
      ],
      "text/plain": [
       "          CASE_NUMBER                       EMPLOYER_NAME EMPLOYER_CITY  \\\n",
       "0  H-300-20199-721302  Fazio Farms Operating Company, LLC      Portland   \n",
       "1  H-300-20231-773906                  Charlie Sunderland   McMinnville   \n",
       "2  H-300-20231-774123                   Michael Rudebusch    Livingston   \n",
       "3  H-300-20231-774151                        Lodahl Farms      Brockton   \n",
       "4  H-300-20231-774508             Dunson Harvesting, Inc.  Winter Haven   \n",
       "\n",
       "  EMPLOYER_STATE        EMPLOYER_ADDRESS_1  \n",
       "0             OR          8433 NE 13th Ave  \n",
       "1             TN  982 Northcutts Cove Road  \n",
       "2             TX      7366 State Hwy 146 S  \n",
       "3             MT            4198 Road 2049  \n",
       "4             FL   400 Eagle Lake Loop Rd.  "
      ]
     },
     "execution_count": 11,
     "metadata": {},
     "output_type": "execute_result"
    }
   ],
   "source": [
    "# your code here to load the data \n",
    "jobs = pd.read_csv('pset4_inputdata/jobs_clean.csv')\n",
    "print(jobs.shape)\n",
    "jobs.head()"
   ]
  },
  {
   "cell_type": "markdown",
   "metadata": {
    "id": "8ysimXiJZ_tY"
   },
   "source": [
    "##  2.2 Try inner join on employer name  (2 points)\n",
    "\n",
    "- Use the `EMPLOYER_NAME` field of the `jobs` dataset\n",
    "- Use the `Name` field of the `debar_clean` dataset \n",
    "\n",
    "A. Use pd.merge with an inner join on those fields to see whether there are any exact matches. \n",
    "\n",
    "B. If there are exact matches, print the row(s) with exact matches\n",
    "\n"
   ]
  },
  {
   "cell_type": "code",
   "execution_count": 12,
   "metadata": {
    "colab": {
     "base_uri": "https://localhost:8080/",
     "height": 214
    },
    "id": "Q9ZZIOniZ_tY",
    "outputId": "6d4c2fa1-b133-4a42-de81-6fa4dca3d614"
   },
   "outputs": [
    {
     "data": {
      "text/html": [
       "<div>\n",
       "<style scoped>\n",
       "    .dataframe tbody tr th:only-of-type {\n",
       "        vertical-align: middle;\n",
       "    }\n",
       "\n",
       "    .dataframe tbody tr th {\n",
       "        vertical-align: top;\n",
       "    }\n",
       "\n",
       "    .dataframe thead th {\n",
       "        text-align: right;\n",
       "    }\n",
       "</style>\n",
       "<table border=\"1\" class=\"dataframe\">\n",
       "  <thead>\n",
       "    <tr style=\"text-align: right;\">\n",
       "      <th></th>\n",
       "      <th>CASE_NUMBER</th>\n",
       "      <th>EMPLOYER_NAME</th>\n",
       "      <th>EMPLOYER_CITY</th>\n",
       "      <th>EMPLOYER_STATE</th>\n",
       "      <th>EMPLOYER_ADDRESS_1</th>\n",
       "      <th>Name</th>\n",
       "      <th>City, State</th>\n",
       "      <th>Violation</th>\n",
       "      <th>Start date</th>\n",
       "      <th>viol_num</th>\n",
       "    </tr>\n",
       "  </thead>\n",
       "  <tbody>\n",
       "    <tr>\n",
       "      <th>0</th>\n",
       "      <td>H-300-20287-876656</td>\n",
       "      <td>Rafael Barajas</td>\n",
       "      <td>Port St. Lucie</td>\n",
       "      <td>FL</td>\n",
       "      <td>2598 SW Dalpina Rd.</td>\n",
       "      <td>Rafael Barajas</td>\n",
       "      <td>Sebring, Florida</td>\n",
       "      <td>Non-payment of certification fee</td>\n",
       "      <td>9/23/2016</td>\n",
       "      <td>viol1</td>\n",
       "    </tr>\n",
       "  </tbody>\n",
       "</table>\n",
       "</div>"
      ],
      "text/plain": [
       "          CASE_NUMBER   EMPLOYER_NAME   EMPLOYER_CITY EMPLOYER_STATE  \\\n",
       "0  H-300-20287-876656  Rafael Barajas  Port St. Lucie             FL   \n",
       "\n",
       "    EMPLOYER_ADDRESS_1            Name       City, State  \\\n",
       "0  2598 SW Dalpina Rd.  Rafael Barajas  Sebring, Florida   \n",
       "\n",
       "                          Violation Start date viol_num  \n",
       "0  Non-payment of certification fee  9/23/2016    viol1  "
      ]
     },
     "execution_count": 12,
     "metadata": {},
     "output_type": "execute_result"
    }
   ],
   "source": [
    "## your code here\n",
    "match_jobs = jobs.merge(debar_clean, how='inner', left_on='EMPLOYER_NAME', right_on='Name')\n",
    "match_jobs"
   ]
  },
  {
   "cell_type": "markdown",
   "metadata": {
    "id": "PmiBsFb_Z_tZ"
   },
   "source": [
    "## 2.3 Targeted regex (10 points total)\n",
    "\n",
    "You want to see if you can increase the exact match rate with some basic cleaning of each \n",
    "of the employer name fields in each dataset "
   ]
  },
  {
   "cell_type": "markdown",
   "metadata": {
    "id": "biAxzABgZ_tZ"
   },
   "source": [
    "### 2.3.1 Converting to upper (2 points)\n",
    "\n",
    "A. Convert the `EMPLOYER_NAME` and `Name` fields to uppercase using list comprehension rather than df.varname.str.upper() (it's fine to do a separate list comprehension line for each of the two columns)\n",
    "\n",
    "B. Print a random sample of 15 values of each result\n",
    "\n",
    "C. Assign the full vector of uppercase names back to the original data, writing over the original `EMPLOYER_NAME` and `Name` columns \n"
   ]
  },
  {
   "cell_type": "code",
   "execution_count": 13,
   "metadata": {
    "id": "v4voRlVbZ_tZ"
   },
   "outputs": [],
   "source": [
    "## insert your code to turn into uppercase here\n",
    "jobs_names = jobs.EMPLOYER_NAME.str.upper()\n",
    "debar_names = debar_clean.Name.str.upper()"
   ]
  },
  {
   "cell_type": "code",
   "execution_count": 14,
   "metadata": {
    "colab": {
     "base_uri": "https://localhost:8080/"
    },
    "id": "qKeBR3KPZ_ta",
    "outputId": "5630d74b-8396-46b1-fa8f-0dd4ea6d4b42"
   },
   "outputs": [
    {
     "name": "stdout",
     "output_type": "stream",
     "text": [
      "1442                          M.A. GRAIN LLC\n",
      "1152                   LEJEUNE CRAWFISH, LLC\n",
      "1506                             ED MCDONALD\n",
      "1334                  TRIDENT SEAFOODS, INC.\n",
      "2698                            DENNIS WALEN\n",
      "1599       FAULKNER LAND & LIVESTOCK COMPANY\n",
      "1128               WESTERN RANGE ASSOCIATION\n",
      "1488                     BONNIE PLANTS, INC.\n",
      "1077               WESTERN RANGE ASSOCIATION\n",
      "2630    MARTINELLI VINEYARD MANAGEMENT, INC.\n",
      "1468                       THE PLANT FACTORY\n",
      "2319                       ALLEN RANCHES LLC\n",
      "1447                            PEARSON FARM\n",
      "2393                  R & R CHINCHILLA, INC.\n",
      "1380        EMPIRE FARM LABOR CONTRACTOR LLC\n",
      "Name: EMPLOYER_NAME, dtype: object\n",
      "33                                     TRIANGLE J FARMS\n",
      "58                                     NEMORIO RESENDIZ\n",
      "32                             TRAVIS AND TARA LAMBOURN\n",
      "90                                 LANDMARK LANDSCAPING\n",
      "45                              MELVIN DON UNDERWOOD II\n",
      "55                                        AGECY II, LLC\n",
      "66                                         TURNER FARMS\n",
      "86                                          DELIA ROJAS\n",
      "89              RB FARM PICKING INC, DBA RONALD BERNARD\n",
      "59                                          DANECO, LLC\n",
      "81    COUNTY FAIR FARM (COMPANY) AND ANDREW WILLIAMS...\n",
      "67                                       YOLANDA CHAVEZ\n",
      "78                                C HANGING L RANCH LLP\n",
      "46                                        JESUS LEDESMA\n",
      "77                                          OLSON FARMS\n",
      "Name: Name, dtype: object\n"
     ]
    }
   ],
   "source": [
    "## insert your code for the random sample\n",
    "print(jobs_names.sample(n=15 , random_state=1))\n",
    "print(debar_names.sample(n=15 , random_state=1))"
   ]
  },
  {
   "cell_type": "code",
   "execution_count": 15,
   "metadata": {
    "id": "XBktdQyhZ_ta"
   },
   "outputs": [],
   "source": [
    "## insert your code for assigning the uppercase names back to the data\n",
    "jobs.EMPLOYER_NAME = jobs_names\n",
    "debar_clean.Name = debar_names"
   ]
  },
  {
   "cell_type": "markdown",
   "metadata": {
    "id": "MoMrJlzGZ_ta"
   },
   "source": [
    "### 2.3.2 Cleaning up punctuation (4 points)\n",
    "\n",
    "You notice that INC, CO, and LLC are sometimes followed by a period (.) but sometimes not\n",
    "\n",
    "A. For each dataset, write a regex pattern using `re.sub` to remove the . but only if it's preceded by INC, LLC, or CO \n",
    "\n",
    "Make sure LLC, INC, CO remain part of the string but just without the dot\n",
    "\n",
    "B. Test the pattern on the positive and negative example we provide below and print the result. See the Github issue for examples of what to return\n",
    "\n",
    "\n",
    "**Hint**: https://stackoverflow.com/questions/7191209/python-re-sub-replace-with-matched-content\n",
    "\n"
   ]
  },
  {
   "cell_type": "code",
   "execution_count": 16,
   "metadata": {
    "id": "6PUcLYOFZ_ta"
   },
   "outputs": [],
   "source": [
    "pos_example_1 = \"CISCO PRODUCE INC.\"\n",
    "pos_example_2 = \"AVOYELLES HONEY CO., LLC\"\n",
    "neg_example = \"E.V. RANCH LLP\""
   ]
  },
  {
   "cell_type": "code",
   "execution_count": 17,
   "metadata": {
    "colab": {
     "base_uri": "https://localhost:8080/",
     "height": 36
    },
    "id": "7xmhxaN60bbb",
    "outputId": "70961f76-c829-48aa-d22c-f9da78cab5a3"
   },
   "outputs": [],
   "source": [
    "# re.sub(r'(\\bINC)$.', 'INC', pos_example_1)\n"
   ]
  },
  {
   "cell_type": "code",
   "execution_count": 18,
   "metadata": {
    "colab": {
     "base_uri": "https://localhost:8080/",
     "height": 36
    },
    "id": "fPVidQ1oZ_tb",
    "outputId": "b6438829-0f49-42c3-8da2-0218bb8a4dec"
   },
   "outputs": [
    {
     "data": {
      "text/plain": [
       "'AVOYELLES HONEY CO, LLC'"
      ]
     },
     "execution_count": 18,
     "metadata": {},
     "output_type": "execute_result"
    },
    {
     "data": {
      "text/plain": [
       "'CISCO PRODUCE INC'"
      ]
     },
     "execution_count": 18,
     "metadata": {},
     "output_type": "execute_result"
    },
    {
     "data": {
      "text/plain": [
       "'E.V. RANCH LLP'"
      ]
     },
     "execution_count": 18,
     "metadata": {},
     "output_type": "execute_result"
    }
   ],
   "source": [
    "## insert your code here with the regex pattern for part A\n",
    "re.sub(r'(LLC|INC|CO)+?\\.',r'\\1', pos_example_2)\n",
    "## insert your code to use re.sub to apply the pattern to the test cases for part B\n",
    "re.sub(r'(LLC|INC|CO)+?\\.',r'\\1', pos_example_1)\n",
    "re.sub(r'(LLC|INC|CO)+?\\.',r'\\1', neg_example)"
   ]
  },
  {
   "cell_type": "markdown",
   "metadata": {
    "id": "PEjSk84FZ_tb"
   },
   "source": [
    "### 2.3.3 (4 points)\n",
    "\n",
    "Use that pattern in conjunction with `re.sub` and list comprehension to clean the employer name columns in each dataset. Save the new columns as `name_clean` in each. Then, use row subsetting to (1) subset to rows that changed names and (2) for:\n",
    "\n",
    "- `debar_clean` print the `Name` and `name_clean` columns\n",
    "- `jobs` print the `EMPLOYER_NAME` and `name_clean` columns\n",
    "\n",
    "Make sure to use the uppercase versions of the variables\n"
   ]
  },
  {
   "cell_type": "code",
   "execution_count": 19,
   "metadata": {
    "colab": {
     "base_uri": "https://localhost:8080/"
    },
    "id": "LfCPC4LrZ_tb",
    "outputId": "950d0ae0-cc1a-494e-f4c3-bf9f1c55915e"
   },
   "outputs": [],
   "source": [
    "## your code here to clean the columns\n",
    "debar_clean['name_clean'] = debar_clean['Name'].apply(lambda x: re.sub(r'(LLC|INC|CO)+?\\.',r'\\1', x))\n",
    "jobs['name_clean'] = jobs['EMPLOYER_NAME'].apply(lambda x: re.sub(r'(LLC|INC|CO)+?\\.',r'\\1', x))"
   ]
  },
  {
   "cell_type": "code",
   "execution_count": 20,
   "metadata": {
    "colab": {
     "base_uri": "https://localhost:8080/"
    },
    "id": "92e3td1iZ_tb",
    "outputId": "dff8e88c-67c0-4361-d3ec-01be88debfc1"
   },
   "outputs": [
    {
     "name": "stdout",
     "output_type": "stream",
     "text": [
      "                    name_clean                         Name\n",
      "0         MACKY AND BRAD FARMS         MACKY AND BRAD FARMS\n",
      "1                    SRT FARMS                    SRT FARMS\n",
      "2             DOVE CREEK FARMS             DOVE CREEK FARMS\n",
      "3  ROLLO FARM LABOR CONTRACTOR  ROLLO FARM LABOR CONTRACTOR\n",
      "4                    F&W FARMS                    F&W FARMS\n",
      "                           name_clean                       EMPLOYER_NAME\n",
      "0  FAZIO FARMS OPERATING COMPANY, LLC  FAZIO FARMS OPERATING COMPANY, LLC\n",
      "1                  CHARLIE SUNDERLAND                  CHARLIE SUNDERLAND\n",
      "2                   MICHAEL RUDEBUSCH                   MICHAEL RUDEBUSCH\n",
      "3                        LODAHL FARMS                        LODAHL FARMS\n",
      "4              DUNSON HARVESTING, INC             DUNSON HARVESTING, INC.\n"
     ]
    }
   ],
   "source": [
    "## your code here to print the head\n",
    "print(debar_clean[['name_clean', 'Name']].head())\n",
    "print(jobs[['name_clean', 'EMPLOYER_NAME']].head())"
   ]
  },
  {
   "cell_type": "markdown",
   "metadata": {
    "id": "6SarqX8XZ_tb"
   },
   "source": [
    "## 2.4 More joins and more cleaning (5 points)\n",
    "\n",
    "A. Conduct another inner join between `jobs` and `debar_clean` now using the `name_clean` column; print the result. Did the cleaning result in any more employers matched between the two datasets?\n",
    "\n",
    "B. Create a new column in `debar_clean` called `name_clean_2` that uses regex to take the following name in that dataset:\n",
    "\n",
    "- `SLASH E.V. RANCH LLP` in the `debar_clean` dataset\n",
    "\n",
    "And cleans it up so that it matches with this employer in `jobs`\n",
    "\n",
    "- `SLASH EV RANCH` in the `jobs` dataset\n",
    "\n",
    "Eg a pattern to remove the dots in the EV and the space+LLP-- you can apply the pattern to all employer names in debar_clean (so don't need to worry about only applying it to that one employer)\n",
    "\n",
    "\n",
    "C. Conduct a left join using `name_clean_2` as the join column where the left hand dataframe is `jobs`; right hand dataframe is `debar_clean`, store the result as a dataframe, and print the rows where the merge indicator indicates the row was found in both dataframe\n",
    "\n",
    "**Note**: this manual cleaning process is inefficient and helps motivate the fuzzy matching we'll cover in future week or optional OH; that fuzzy matching would recognize that Slash EV ranch is a highly similar string to slash ev ranch llp and match them without us needing to use regex to make the strings identical"
   ]
  },
  {
   "cell_type": "code",
   "execution_count": 21,
   "metadata": {
    "colab": {
     "base_uri": "https://localhost:8080/",
     "height": 214
    },
    "id": "lj-66finZ_tc",
    "outputId": "7eff4bb2-d81c-4a40-d843-b4c1dba9905a"
   },
   "outputs": [
    {
     "data": {
      "text/html": [
       "<div>\n",
       "<style scoped>\n",
       "    .dataframe tbody tr th:only-of-type {\n",
       "        vertical-align: middle;\n",
       "    }\n",
       "\n",
       "    .dataframe tbody tr th {\n",
       "        vertical-align: top;\n",
       "    }\n",
       "\n",
       "    .dataframe thead th {\n",
       "        text-align: right;\n",
       "    }\n",
       "</style>\n",
       "<table border=\"1\" class=\"dataframe\">\n",
       "  <thead>\n",
       "    <tr style=\"text-align: right;\">\n",
       "      <th></th>\n",
       "      <th>CASE_NUMBER</th>\n",
       "      <th>EMPLOYER_NAME</th>\n",
       "      <th>EMPLOYER_CITY</th>\n",
       "      <th>EMPLOYER_STATE</th>\n",
       "      <th>EMPLOYER_ADDRESS_1</th>\n",
       "      <th>name_clean</th>\n",
       "      <th>Name</th>\n",
       "      <th>City, State</th>\n",
       "      <th>Violation</th>\n",
       "      <th>Start date</th>\n",
       "      <th>viol_num</th>\n",
       "    </tr>\n",
       "  </thead>\n",
       "  <tbody>\n",
       "    <tr>\n",
       "      <th>0</th>\n",
       "      <td>H-300-20287-876656</td>\n",
       "      <td>RAFAEL BARAJAS</td>\n",
       "      <td>Port St. Lucie</td>\n",
       "      <td>FL</td>\n",
       "      <td>2598 SW Dalpina Rd.</td>\n",
       "      <td>RAFAEL BARAJAS</td>\n",
       "      <td>RAFAEL BARAJAS</td>\n",
       "      <td>Sebring, Florida</td>\n",
       "      <td>Non-payment of certification fee</td>\n",
       "      <td>9/23/2016</td>\n",
       "      <td>viol1</td>\n",
       "    </tr>\n",
       "  </tbody>\n",
       "</table>\n",
       "</div>"
      ],
      "text/plain": [
       "          CASE_NUMBER   EMPLOYER_NAME   EMPLOYER_CITY EMPLOYER_STATE  \\\n",
       "0  H-300-20287-876656  RAFAEL BARAJAS  Port St. Lucie             FL   \n",
       "\n",
       "    EMPLOYER_ADDRESS_1      name_clean            Name       City, State  \\\n",
       "0  2598 SW Dalpina Rd.  RAFAEL BARAJAS  RAFAEL BARAJAS  Sebring, Florida   \n",
       "\n",
       "                          Violation Start date viol_num  \n",
       "0  Non-payment of certification fee  9/23/2016    viol1  "
      ]
     },
     "execution_count": 21,
     "metadata": {},
     "output_type": "execute_result"
    }
   ],
   "source": [
    "## your code here\n",
    "# A\n",
    "match_jobs_clean = jobs.merge(debar_clean, how='inner', on='name_clean')\n",
    "match_jobs_clean"
   ]
  },
  {
   "cell_type": "code",
   "execution_count": 22,
   "metadata": {
    "id": "8FFl5M6xIrPP"
   },
   "outputs": [],
   "source": [
    "# B. Create a new column in debar_clean called name_clean_2 that uses regex to take the following name in that dataset\n",
    "debar_clean['name_clean_2'] = debar_clean['name_clean'].apply(lambda x: re.sub(r'(\\b[A-Z])\\.(?=[A-Z]\\b|\\s|$)',r'\\1', x))\n",
    "debar_clean['name_clean_2'] = debar_clean['name_clean_2'].apply(lambda x: re.sub(r'(\\bRANCH) LLP(?=[A-Z]\\b|\\s|$)',r'\\1', x))"
   ]
  },
  {
   "cell_type": "code",
   "execution_count": 23,
   "metadata": {
    "colab": {
     "base_uri": "https://localhost:8080/",
     "height": 298
    },
    "id": "tIy9VUrdNk2B",
    "outputId": "a11e0164-9d90-4f9f-b768-c36970d1d1eb"
   },
   "outputs": [
    {
     "data": {
      "text/html": [
       "<div>\n",
       "<style scoped>\n",
       "    .dataframe tbody tr th:only-of-type {\n",
       "        vertical-align: middle;\n",
       "    }\n",
       "\n",
       "    .dataframe tbody tr th {\n",
       "        vertical-align: top;\n",
       "    }\n",
       "\n",
       "    .dataframe thead th {\n",
       "        text-align: right;\n",
       "    }\n",
       "</style>\n",
       "<table border=\"1\" class=\"dataframe\">\n",
       "  <thead>\n",
       "    <tr style=\"text-align: right;\">\n",
       "      <th></th>\n",
       "      <th>Name</th>\n",
       "      <th>City, State</th>\n",
       "      <th>Violation</th>\n",
       "      <th>Start date</th>\n",
       "      <th>viol_num</th>\n",
       "      <th>name_clean_x</th>\n",
       "      <th>name_clean_2</th>\n",
       "      <th>CASE_NUMBER</th>\n",
       "      <th>EMPLOYER_NAME</th>\n",
       "      <th>EMPLOYER_CITY</th>\n",
       "      <th>EMPLOYER_STATE</th>\n",
       "      <th>EMPLOYER_ADDRESS_1</th>\n",
       "      <th>name_clean_y</th>\n",
       "    </tr>\n",
       "  </thead>\n",
       "  <tbody>\n",
       "    <tr>\n",
       "      <th>0</th>\n",
       "      <td>RAFAEL BARAJAS</td>\n",
       "      <td>Sebring, Florida</td>\n",
       "      <td>Non-payment of certification fee</td>\n",
       "      <td>9/23/2016</td>\n",
       "      <td>viol1</td>\n",
       "      <td>RAFAEL BARAJAS</td>\n",
       "      <td>RAFAEL BARAJAS</td>\n",
       "      <td>H-300-20287-876656</td>\n",
       "      <td>RAFAEL BARAJAS</td>\n",
       "      <td>Port St. Lucie</td>\n",
       "      <td>FL</td>\n",
       "      <td>2598 SW Dalpina Rd.</td>\n",
       "      <td>RAFAEL BARAJAS</td>\n",
       "    </tr>\n",
       "    <tr>\n",
       "      <th>1</th>\n",
       "      <td>SLASH E.V. RANCH LLP</td>\n",
       "      <td>Rifle, CO</td>\n",
       "      <td>WHD Debarment</td>\n",
       "      <td>11/15/2014</td>\n",
       "      <td>viol1</td>\n",
       "      <td>SLASH E.V. RANCH LLP</td>\n",
       "      <td>SLASH EV RANCH</td>\n",
       "      <td>H-300-20306-894148</td>\n",
       "      <td>SLASH EV RANCH</td>\n",
       "      <td>Rifle</td>\n",
       "      <td>CO</td>\n",
       "      <td>22593 County Road 5</td>\n",
       "      <td>SLASH EV RANCH</td>\n",
       "    </tr>\n",
       "  </tbody>\n",
       "</table>\n",
       "</div>"
      ],
      "text/plain": [
       "                   Name       City, State                         Violation  \\\n",
       "0        RAFAEL BARAJAS  Sebring, Florida  Non-payment of certification fee   \n",
       "1  SLASH E.V. RANCH LLP         Rifle, CO                     WHD Debarment   \n",
       "\n",
       "   Start date viol_num          name_clean_x    name_clean_2  \\\n",
       "0   9/23/2016    viol1        RAFAEL BARAJAS  RAFAEL BARAJAS   \n",
       "1  11/15/2014    viol1  SLASH E.V. RANCH LLP  SLASH EV RANCH   \n",
       "\n",
       "          CASE_NUMBER   EMPLOYER_NAME   EMPLOYER_CITY EMPLOYER_STATE  \\\n",
       "0  H-300-20287-876656  RAFAEL BARAJAS  Port St. Lucie             FL   \n",
       "1  H-300-20306-894148  SLASH EV RANCH           Rifle             CO   \n",
       "\n",
       "    EMPLOYER_ADDRESS_1    name_clean_y  \n",
       "0  2598 SW Dalpina Rd.  RAFAEL BARAJAS  \n",
       "1  22593 County Road 5  SLASH EV RANCH  "
      ]
     },
     "execution_count": 23,
     "metadata": {},
     "output_type": "execute_result"
    }
   ],
   "source": [
    "# C. Conduct a left join using name_clean_2 as the join column where the left hand dataframe is jobs; right hand dataframe is debar_clean, store the result as a dataframe, and print the rows where the merge indicator indicates the row was found in both dataframe\n",
    "debar_clean.merge(jobs, how='inner', left_on='name_clean_2', right_on='name_clean')"
   ]
  },
  {
   "cell_type": "markdown",
   "metadata": {
    "id": "Qu980aGvZ_tc"
   },
   "source": [
    "# 3. Optional extra credit 1: regex to separate companies from individuals (1 point)\n",
    "\n",
    "You notice some employers in `debar_clean` have both the name of the company and the name of individual, e.g.:\n",
    "    \n",
    "COUNTY FAIR FARM (COMPANY) AND ANDREW WILLIAMSON (INDIVIDUAL)*\n",
    "\n",
    "Use the uppercase/cleaned `name_clean` in `debar_clean`\n",
    "\n",
    "A. Write a regex pattern that does the following:\n",
    "    - Captures the pattern that occurs before COMPANY if (COMPANY) is in string; so in example above, extracts COUNTY FAIR FARM \n",
    "    - Captures the pattern that occurs before INDIVIDUAL if (INDIVIDUAL) is also in string -- so in above, extracts ANDREW WILLIAMSON (so omit the \"and\")\n",
    "    \n",
    "B. Test the pattern on `pos_example` and `neg_example`-- make sure former returns a list (if using find.all) or match object (if using re.search) with the company name and individual name separated out; make sure latter returns empty\n",
    "    \n",
    "**Hints and resources**: for step A, you can either use re.search, re.match, or re.findall; don't worry about matching B&R Harvesting and Paul Cruz (Individual)\n",
    "\n",
    "- Same regex resources as above\n",
    "    "
   ]
  },
  {
   "cell_type": "code",
   "execution_count": 24,
   "metadata": {
    "id": "mxvOooNeZ_td"
   },
   "outputs": [],
   "source": [
    "pos_example = \"COUNTY FAIR FARM (COMPANY) AND ANDREW WILLIAMSON (INDIVIDUAL)*\"\n",
    "neg_example = \"CISCO PRODUCE INC\"\n",
    "\n",
    "## your code here to define the pattern\n",
    "\n",
    "## your code here to apply it to the pos_example\n",
    "\n",
    "## your code here to apply it to the negative example"
   ]
  },
  {
   "cell_type": "markdown",
   "metadata": {
    "id": "ff-jBYO1Z_td"
   },
   "source": [
    "C. Iterate over the `name_clean` column in debar and use regex to create two new columns in `debar_clean`:\n",
    "   - `co_name`: A column for company (full `name_clean` string if no match; pattern before COMPANY if one extracted)\n",
    "   - `ind_name`: A column for individual (full `name_clean` string if no match; pattern before INDIVIDUAL if one extracted)\n",
    " \n"
   ]
  },
  {
   "cell_type": "code",
   "execution_count": 25,
   "metadata": {
    "id": "RGUOz_IrZ_td"
   },
   "outputs": [],
   "source": [
    "# your code here"
   ]
  },
  {
   "cell_type": "markdown",
   "metadata": {
    "id": "kWb-i0xBZ_te"
   },
   "source": [
    "   \n",
    "D. Print three columns for the rows in `debar_clean` containing the negative example and positive example described above (county fair farm and cisco produce):\n",
    "\n",
    "- `name_clean`\n",
    "- `co_name`\n",
    "- `ind_name`\n",
    "- `Violation`\n",
    "\n",
    "**Note**: as shown in the outcome there may be duplicates of the same company reflecting different violations"
   ]
  },
  {
   "cell_type": "code",
   "execution_count": 26,
   "metadata": {
    "id": "oAl_v98GZ_te"
   },
   "outputs": [],
   "source": [
    "# your code here"
   ]
  },
  {
   "cell_type": "markdown",
   "metadata": {
    "id": "nkNgyOLMZ_te"
   },
   "source": []
  },
  {
   "cell_type": "markdown",
   "metadata": {
    "id": "T4N6E0mSZ_te"
   },
   "source": [
    "# 4. Optional extra credit 2 (up to 3 points)\n",
    "\n",
    "- For 1 point extra credit, create a visualization with 1+ of the existing fields in either the raw `jobs` or `debar` data. We'll be showing cool visualizations in class so use your imagination! Options could include visualizing between-state or over-time variation\n",
    "\n",
    "- For 3 points extra credit instead, geocode the employer addresses in `jobs` and plot the addresses of jobs as points overlaid on top of a map of Georgia \n",
    "    - **Note**: this extra credit involves Googling since we have not yet covered spatial data. \n",
    "        - For discussion of how to geocode addresses -> lat/long, see: https://www.natasshaselvaraj.com/a-step-by-step-guide-on-geocoding-in-python/ \n",
    "        - For discussion of plotting lat/long dots against a map, see this discussion of geopandas: https://towardsdatascience.com/plotting-maps-with-geopandas-428c97295a73\n",
    "    - Relevant columns include `EMPLOYER_ADDRESS_1` \n",
    "    - The geocoding might have a long runtime so feel free to implement it in a separate .py script that you submit alongside your notebook and to just read in the geocoded data"
   ]
  },
  {
   "cell_type": "code",
   "execution_count": 27,
   "metadata": {
    "id": "B91SQjD5Z_te"
   },
   "outputs": [],
   "source": [
    "## your code here"
   ]
  }
 ],
 "metadata": {
  "colab": {
   "collapsed_sections": [],
   "provenance": []
  },
  "kernelspec": {
   "display_name": "Python 3 (ipykernel)",
   "language": "python",
   "name": "python3"
  },
  "language_info": {
   "codemirror_mode": {
    "name": "ipython",
    "version": 3
   },
   "file_extension": ".py",
   "mimetype": "text/x-python",
   "name": "python",
   "nbconvert_exporter": "python",
   "pygments_lexer": "ipython3",
   "version": "3.9.5"
  }
 },
 "nbformat": 4,
 "nbformat_minor": 1
}
